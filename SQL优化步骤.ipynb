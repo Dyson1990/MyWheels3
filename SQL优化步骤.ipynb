{
 "cells": [
  {
   "cell_type": "markdown",
   "metadata": {},
   "source": [
    "## SQL优化语句的一般步骤\n",
    "\n",
    "1.通过show status命令了解各种SQL的执行频率\n",
    "\n",
    "2.定位执行效率较低的SQL语句\n",
    "\n",
    "3.通过EXPLAIN分析较低SQL的执行计划\n",
    "\n",
    "4.通过show profile分析SQL\n",
    "\n",
    "5.通过trace分析优化器如何选择执行计划\n",
    "\n",
    "6.确定问题并采取相应的优化措施\n",
    "\n",
    "参考网页：https://blog.csdn.net/ichglauben/article/details/81204375"
   ]
  },
  {
   "cell_type": "code",
   "execution_count": 2,
   "metadata": {},
   "outputs": [],
   "source": [
    "import pandas as pd\n",
    "import sqlalchemy\n",
    "import sqlite3\n",
    "pd.options.display.max_rows = 1000"
   ]
  },
  {
   "cell_type": "code",
   "execution_count": 3,
   "metadata": {},
   "outputs": [],
   "source": [
    "dbname_str = {\n",
    "        'oracle':\"ALTER SESSION SET CURRENT_SCHEMA = \\\"{}\\\"\"\n",
    "        , 'mysql':\"USE `{}`\"\n",
    "        }\n",
    "def __standardize_args(sql_args):\n",
    "    # 检查所需参数是否都存在，规范输入的一些参数\n",
    "    if not isinstance(sql_args, dict):\n",
    "        raise Exception(\"sql_args格式错误！！！\")\n",
    "        \n",
    "    # 规范输入的大小写\n",
    "    sql_args['db_dialect'] = sql_args['db_dialect'].lower()\n",
    "    sql_args['db_driver'] = sql_args['db_driver'].lower()\n",
    "    \n",
    "    # 不同的数据库，需要的参数不同\n",
    "    if sql_args['db_dialect'] == 'oracle':\n",
    "        needed_args = ['db_dialect', 'db_driver', 'host', 'user', 'password', 'sid', 'dbname']\n",
    "        \n",
    "        # Oracle的数据类型比较特殊\n",
    "        global np_type2sql_type,sql_type2np_type,np_type2oracle_type,oracle_type2np_type\n",
    "        np_type2sql_type = np_type2oracle_type\n",
    "        sql_type2np_type = oracle_type2np_type\n",
    "        \n",
    "    elif sql_args['db_dialect'] == 'mysql':\n",
    "        needed_args = ['db_dialect', 'db_driver', 'host', 'user', 'password', 'dbname']\n",
    "    \n",
    "    # 缺少参数则报错\n",
    "    check_args = [s for s in needed_args if s not in sql_args]\n",
    "    if check_args:\n",
    "        raise Exception(\"缺少数据库参数：%s\" % '，'.join(check_args))\n",
    "    \n",
    "    # 规定默认的参数的值 ##################################################\n",
    "    if 'port' not in sql_args and sql_args['db_dialect'] == 'oracle':\n",
    "        sql_args['port'] = '1521'\n",
    "    if 'port' not in sql_args and sql_args['db_dialect'] == 'mysql':\n",
    "        sql_args['port'] = '3306'\n",
    "    if 'charset' not in sql_args:\n",
    "        sql_args['charset'] = 'UTF8MB4'\n",
    "        \"\"\"\n",
    "        这种错误很有可能是SQL驱动不完整\n",
    "        也可能是数据库的编码与申请的编码不符\n",
    "        1366, \"Incorrect string value: '\\\\xD6\\\\xD0\\\\xB9\\\\xFA\\\\xB1\\\\xEA...' for column 'VARIABLE_VALUE' at row 484\")\n",
    "        \"\"\"\n",
    "    if 'method' not in sql_args:\n",
    "        # 没有参数传入，则使用fetchall\n",
    "        sql_args['method'] = None\n",
    "    if 'data_type' not in sql_args:\n",
    "        sql_args['data_type'] = 'list'\n",
    "    #######################################################################\n",
    "    return sql_args\n",
    "\n",
    "def __sql_engine(sql_args):\n",
    "    # 编辑salalchemy中的数据库参数字符串\n",
    "    global eng_str\n",
    "    db_dialect = sql_args['db_dialect']\n",
    "    engine = sqlalchemy.create_engine(eng_str[db_dialect].format(**sql_args))#, echo=True)\n",
    "    return engine\n",
    "\n",
    "eng_str = {\n",
    "        'oracle':\"{db_dialect}+{db_driver}://{user}:{password}@{host}:{port}/{sid}?charset={charset}\"\n",
    "        , 'mysql': \"{db_dialect}+{db_driver}://{user}:{password}@{host}:{port}/{dbname}?charset={charset}\"\n",
    "        }\n",
    "sql_args = {\n",
    "    'db_dialect': 'MySQL'\n",
    "    , 'db_driver': 'pymysql'\n",
    "    , \"host\": \"192.168.50.190\"\n",
    "    , \"user\": \"lyb\"\n",
    "    , \"password\": \"122321\"\n",
    "    , 'dbname': 'qy_data'\n",
    "    , 'data_type': 'DataFrame'\n",
    "}\n",
    "sql_args = __standardize_args(sql_args)\n",
    "mysql_engine = __sql_engine(sql_args)\n",
    "sqlite_engine = sqlalchemy.create_engine('sqlite:///param_annotation.db')"
   ]
  },
  {
   "cell_type": "markdown",
   "metadata": {},
   "source": [
    "## 通过show status命令了解各种SQL的执行频率"
   ]
  },
  {
   "cell_type": "code",
   "execution_count": null,
   "metadata": {},
   "outputs": [],
   "source": [
    "with sqlite_engine.connect() as conn:\n",
    "    resp = conn.execute('SELECT Variable_name, Annotation FROM mysql_status')\n",
    "    annotation = dict(resp.fetchall())\n",
    "\n",
    "sql_str = 'show status'\n",
    "res = pd.read_sql(sql_str, mysql_engine)\n",
    "res['Annotation'] = res['Variable_name'].apply(lambda s: annotation.get(s))\n",
    "print(\"显示了当前session中所有统计参数的值（前10）\")\n",
    "print(res[res['Variable_name'].str[0:4]=='Com_'].head(10))\n",
    "\n",
    "print(\"\\n前者中比较关注的统计参数\")\n",
    "important_var = (\"Com_select\",\"Com_insert\",\"Com_update\",\"Com_delete\")\n",
    "print(res[res['Variable_name'].isin(important_var)])\n",
    "\n",
    "print(\"\\nInnodb中比较关注的统计参数\")\n",
    "\"\"\"\n",
    "文中说\n",
    "以上参数对所有存储引擎都会进行累计\n",
    "下面参数只对InnoDB进行累计\n",
    "\n",
    "结果前者基本都是0，后者却有统计数据\n",
    "\"\"\"\n",
    "innodb_var = (\"Innodb_rows_read\",\"Innodb_rows_inserted\",\"Innodb_rows_updated\",\"Innodb_rows_deleted\")\n",
    "print(res[res['Variable_name'].isin(innodb_var)])\n",
    "\n",
    "print(\"\\n事务型应用\")\n",
    "transaction_var = (\"Com_commit\",\"Com_rollback\")\n",
    "print(res[res['Variable_name'].isin(transaction_var)])"
   ]
  },
  {
   "cell_type": "markdown",
   "metadata": {},
   "source": [
    "## 定位执行效率较低的SQL语句"
   ]
  },
  {
   "cell_type": "markdown",
   "metadata": {},
   "source": [
    "参考文章\n",
    "https://blog.csdn.net/TyphoonHao/article/details/91562084\n",
    "https://blog.csdn.net/qq_24025219/article/details/105137540"
   ]
  },
  {
   "cell_type": "markdown",
   "metadata": {},
   "source": [
    "## 通过EXPLAIN分析较低SQL的执行计划"
   ]
  },
  {
   "cell_type": "markdown",
   "metadata": {},
   "source": [
    "| field1        | field2          | meaning                                                      |\n",
    "| ------------- | --------------- | ------------------------------------------------------------ |\n",
    "| select_type   | &nbsp;           | 表示SELECT的类型                                             |\n",
    "| &nbsp;         | SIMPLE          | 简单表，不使用表连接或者子查询                               |\n",
    "| &nbsp;         | PRIMARY         | 主查询，外层的查询                                           |\n",
    "| &nbsp;         | UNION           | UNION中的第二个或者后面的查询语句                            |\n",
    "| &nbsp;         | SUBQUERY        | 子查询中的第一个select                                       |\n",
    "| table         | &nbsp;           | 输出结果集的表                                               |\n",
    "| type          | &nbsp;           | 表示MySQL在表中找到所需行的方式，或者访问类型                |\n",
    "| &nbsp;         | all             | 全表扫描，MySQL遍历全表来找到匹配的行                        |\n",
    "| &nbsp;         | index           | 索引全扫描，Mysql遍历整个索引查询匹配行                      |\n",
    "| &nbsp;         | range           | 索引范围扫描，常见于 < <= > >= between                       |\n",
    "| &nbsp;         | ref             | 使用非唯一索引扫描或唯一索引的前缀扫描，返回某个单独值得记录行，ref还经常出现在join操作中 |\n",
    "| &nbsp;         | eq_ref          | 类似ref，区别使用的是唯一索引 对于每个索引键值。表中只有一个值（就是多表连接中使用primary key或者unique index作为关联条件） |\n",
    "| &nbsp;         | const,system    | 单表中最多有一个匹配行，查询起来很迅速。这个匹配行中的其他列值可以被optimizer在当前查询中当作常量处理 |\n",
    "| &nbsp;         | NULL            | 不使用访问表或者索引，直接得到结果                           |\n",
    "| &nbsp;         | ref_or_null     | 类似ref，区别条件中包含对NULL查询                            |\n",
    "| &nbsp;         | index_merge     | 索引合并优化                                                 |\n",
    "| &nbsp;         | unique_subquery | in的后面是一个查询主键字段的子查询                           |\n",
    "| &nbsp;         | index_subquery  | 与unique_subquery类似，区别在in后面是查询非唯一索引字段的子查询等 |\n",
    "| possible_keys | &nbsp;           | 表示查询时可能使用的索引                                     |\n",
    "| key           | &nbsp;           | 表示实际使用的索引                                           |\n",
    "| key_len       | &nbsp;           | 使用到索引字段的长度                                         |\n",
    "| rows          | &nbsp;           | 扫描行数量                                                   |\n",
    "| EXTRA         | &nbsp;           | 执行情况的说明和描述，包含不适合在其他列中显示但对执行计划非常重要的额外信息 \n"
   ]
  },
  {
   "cell_type": "code",
   "execution_count": null,
   "metadata": {},
   "outputs": [],
   "source": []
  }
 ],
 "metadata": {
  "kernelspec": {
   "display_name": "Python 3",
   "language": "python",
   "name": "python3"
  },
  "language_info": {
   "codemirror_mode": {
    "name": "ipython",
    "version": 3
   },
   "file_extension": ".py",
   "mimetype": "text/x-python",
   "name": "python",
   "nbconvert_exporter": "python",
   "pygments_lexer": "ipython3",
   "version": "3.6.8"
  }
 },
 "nbformat": 4,
 "nbformat_minor": 2
}
