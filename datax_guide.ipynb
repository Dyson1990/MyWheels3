{
 "cells": [
  {
   "cell_type": "code",
   "execution_count": 4,
   "id": "b717683e",
   "metadata": {},
   "outputs": [],
   "source": [
    "import sqlalchemy\n",
    "import sqlparse\n",
    "import "
   ]
  },
  {
   "cell_type": "code",
   "execution_count": 10,
   "id": "2ee036c3",
   "metadata": {},
   "outputs": [
    {
     "name": "stdout",
     "output_type": "stream",
     "text": [
      "id,name_,age\n"
     ]
    }
   ],
   "source": [
    "sql = \"\"\"\n",
    "SELECT id,name_,age from dual a\n",
    "LEFT JOIN select id,'18;19',age from actor b\n",
    "ON a.id = b.id\n",
    "\"\"\"\n",
    "stmts = sqlparse.split(sql)\n",
    "for stmt in stmts:\n",
    "    stmt_parsed = sqlparse.parse(stmt)\n",
    "    for token0 in stmt_parsed[0].tokens:\n",
    "        if type(token0) == sqlparse.sql.IdentifierList:\n",
    "            print(token0)\n",
    "            break"
   ]
  }
 ],
 "metadata": {
  "kernelspec": {
   "display_name": "Python 3",
   "language": "python",
   "name": "python3"
  },
  "language_info": {
   "codemirror_mode": {
    "name": "ipython",
    "version": 3
   },
   "file_extension": ".py",
   "mimetype": "text/x-python",
   "name": "python",
   "nbconvert_exporter": "python",
   "pygments_lexer": "ipython3",
   "version": "3.8.10"
  }
 },
 "nbformat": 4,
 "nbformat_minor": 5
}
