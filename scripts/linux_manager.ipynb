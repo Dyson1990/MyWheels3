{
 "cells": [
  {
   "cell_type": "code",
   "execution_count": null,
   "id": "7aef0486",
   "metadata": {},
   "outputs": [],
   "source": [
    "import os"
   ]
  },
  {
   "cell_type": "markdown",
   "id": "6e30491f",
   "metadata": {},
   "source": [
    "## 桌面快捷方式"
   ]
  },
  {
   "cell_type": "raw",
   "id": "db061df7",
   "metadata": {},
   "source": [
    "[Desktop Entry]\n",
    "Encoding=UTF-8\n",
    "Name=yEd          \n",
    "GenericName=IDE\n",
    "Comment=Code. Debug. Edit. Share. Let Komodo sweat the details.\n",
    "Exec=/home/wolf/Program/yEd/yEd \n",
    "Icon=/home/wolf/Program/yEd/yEd.svg\n",
    "Terminal=false\n",
    "Type=Application\n",
    "MimeType=text/plain;\n",
    "Categories=ActiveState;Application;Development;Editor;Utility;TextEditor;Debugger;IDE;"
   ]
  },
  {
   "cell_type": "code",
   "execution_count": null,
   "id": "410c2363",
   "metadata": {},
   "outputs": [],
   "source": []
  }
 ],
 "metadata": {
  "kernelspec": {
   "display_name": "Python 3",
   "language": "python",
   "name": "python3"
  },
  "language_info": {
   "codemirror_mode": {
    "name": "ipython",
    "version": 3
   },
   "file_extension": ".py",
   "mimetype": "text/x-python",
   "name": "python",
   "nbconvert_exporter": "python",
   "pygments_lexer": "ipython3",
   "version": "3.8.10"
  }
 },
 "nbformat": 4,
 "nbformat_minor": 5
}
